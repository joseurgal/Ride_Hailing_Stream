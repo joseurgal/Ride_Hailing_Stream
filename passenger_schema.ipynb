{
 "cells": [
  {
   "attachments": {},
   "cell_type": "markdown",
   "metadata": {},
   "source": [
    "# Create Passenger Avro Schema"
   ]
  },
  {
   "cell_type": "code",
   "execution_count": 2,
   "metadata": {},
   "outputs": [
    {
     "name": "stdout",
     "output_type": "stream",
     "text": [
      "Serialized data: b'Obj\\x01\\x04\\x14avro.codec\\x08null\\x16avro.schema\\xca\\x1c{\"type\": \"record\", \"doc\": \"A passenger request schema.\", \"name\": \"stream.ride.information.Passenger Request\", \"fields\": [{\"name\": \"request_id\", \"type\": \"string\"}, {\"name\": \"passenger_id\", \"type\": \"string\"}, {\"doc\": \"Time of request.\", \"name\": \"timestamp\", \"type\": \"long\"}, {\"name\": \"pickup_location\", \"type\": {\"type\": \"record\", \"name\": \"stream.ride.information.Location\", \"fields\": [{\"name\": \"latitude\", \"type\": \"float\"}, {\"name\": \"longitude\", \"type\": \"float\"}]}}, {\"name\": \"dropoff_location\", \"type\": \"stream.ride.information.Location\"}, {\"doc\": \"Status of the request.\", \"name\": \"status\", \"type\": {\"type\": \"enum\", \"name\": \"stream.ride.information.Status\", \"symbols\": [\"requested\", \"accepted\", \"canceled\", \"completed\"]}}, {\"default\": null, \"name\": \"cancellation_reason\", \"type\": [\"null\", \"string\"]}, {\"default\": null, \"name\": \"driver_id\", \"type\": [\"null\", \"string\"]}, {\"doc\": \"Time taken by a driver to respond to the request (in seconds).\", \"default\": null, \"name\": \"response_time\", \"type\": [\"null\", \"int\"]}, {\"name\": \"surge_multiplier\", \"type\": \"double\"}, {\"doc\": \"Type of ride requested.\", \"name\": \"ride_type\", \"type\": {\"type\": \"enum\", \"name\": \"stream.ride.information.RideType\", \"symbols\": [\"standard\", \"premium\", \"pool\"]}}, {\"doc\": \"Duration of the ride (in seconds).\", \"default\": null, \"name\": \"ride_duration\", \"type\": [\"null\", \"int\"]}, {\"doc\": \"Distance of the ride (in kilometers).\", \"default\": null, \"name\": \"ride_distance\", \"type\": [\"null\", \"double\"]}, {\"doc\": \"Estimated fare for the ride.\", \"default\": null, \"name\": \"fare_estimate\", \"type\": [\"null\", \"double\"]}, {\"doc\": \"Feedback provided by the passenger.\", \"default\": null, \"name\": \"feedback\", \"type\": [\"null\", {\"type\": \"record\", \"name\": \"stream.ride.information.Feedback\", \"fields\": [{\"name\": \"rating\", \"type\": \"int\"}, {\"name\": \"comments\", \"type\": \"string\"}]}]}]}\\x00\\xd8B\\x97\\xb8\\xc2\\xf0\\nMt/\\xfe\\xb4nl\\x08\\xac\\x04\\xa8\\x02\\x08R123\\x08P001\\xe4\\xff\\x8f\\xc1\\x0c\\x7f\\x19\\x17B\\xbc\\xd6\\xf4\\xc2\\xb57\\x17B\\xce\\x8a\\xf4\\xc2\\x00\\x00\\x00\\x00333333\\xf3?\\x00\\x00\\x00\\x02\\x00\\x00\\x00\\x00\\x00\\x00.@\\x00\\x08R124\\x08P002\\x92\\x91\\x90\\xc1\\x0c\\xe8\\xd9\"B\\x12\\x03\\x94\\xc2%\\xec\"B\\xd8\\xde\\x93\\xc2\\x06\\x00\\x02\\x08D001\\x02\\x18\\x00\\x00\\x00\\x00\\x00\\x00\\xf8?\\x02\\x02\\x88\\x0e\\x02\\x00\\x00\\x00\\x00\\x00\\x00\\x14@\\x02\\x00\\x00\\x00\\x00\\x00\\x009@\\x02\\n$Excellent service!\\xd8B\\x97\\xb8\\xc2\\xf0\\nMt/\\xfe\\xb4nl\\x08\\xac'\n"
     ]
    }
   ],
   "source": [
    "from fastavro import writer, reader, parse_schema\n",
    "import io\n",
    "\n",
    "\n",
    "passenger_request_schema = {\n",
    "    'doc': 'A passenger request schema.',\n",
    "    'name': 'Passenger Request',\n",
    "    'namespace': 'stream.ride.information',\n",
    "    'type': 'record',\n",
    "    'fields': [\n",
    "        {'name': 'request_id', 'type': 'string'},\n",
    "        {'name': 'passenger_id', 'type': 'string'},\n",
    "        {'name': 'timestamp', 'type': 'long', 'doc':'Time of status update: request, accepted, completed.'},\n",
    "        {\n",
    "            'name': 'pickup_location',\n",
    "            'type': {\n",
    "                'type': 'record',\n",
    "                'name': 'Location',\n",
    "                'fields': [\n",
    "                    {'name': 'latitude', 'type': 'float'},\n",
    "                    {'name': 'longitude', 'type': 'float'}\n",
    "                ]\n",
    "            }\n",
    "        },\n",
    "        {\n",
    "            'name': 'dropoff_location',\n",
    "            'type': 'Location'\n",
    "        },\n",
    "        {\n",
    "            'name': 'status',\n",
    "            'type': {\n",
    "                'type': 'enum',\n",
    "                'name': 'Status',\n",
    "                'symbols': ['requested', 'accepted', 'canceled', 'completed']\n",
    "            },\n",
    "            'doc': 'Status of the request.'\n",
    "        },\n",
    "        {'name': 'cancellation_reason', 'type': ['null', 'string'], 'default': None},\n",
    "        \n",
    "        {'name': 'driver_id', 'type': ['null', 'string'], 'default': None},\n",
    "        {\n",
    "            'name': 'ride_type',\n",
    "            'type': {\n",
    "                'type': 'enum',\n",
    "                'name': 'RideType',\n",
    "                'symbols': ['standard', 'premium', 'pool']\n",
    "            },\n",
    "            'doc': 'Type of ride requested.'\n",
    "        },\n",
    "        {'name': 'duration_estimate', 'type': ['null', 'int'], 'default': None, 'doc': 'Estimated duration of the ride (in seconds).'},\n",
    "        {'name': 'fare_estimate', 'type': ['null', 'double'], 'default': None, 'doc': 'Estimated fare for the ride.'},\n",
    "        {\n",
    "            'name': 'feedback',\n",
    "            'type': [\n",
    "                'null',\n",
    "                {\n",
    "                    'type': 'record',\n",
    "                    'name': 'Feedback',\n",
    "                    'fields': [\n",
    "                        {'name': 'rating', 'type': 'int'},\n",
    "                        {'name': 'comments', 'type': 'string'}\n",
    "                    ]\n",
    "                }\n",
    "            ],\n",
    "            'default': None,\n",
    "            'doc': 'Feedback provided by the passenger.'\n",
    "        }\n",
    "    ]\n",
    "}\n",
    "\n",
    "# Parse the schema\n",
    "parsed_passenger_schema = parse_schema(passenger_request_schema)"
   ]
  }
 ],
 "metadata": {
  "kernelspec": {
   "display_name": "Python 3",
   "language": "python",
   "name": "python3"
  },
  "language_info": {
   "codemirror_mode": {
    "name": "ipython",
    "version": 3
   },
   "file_extension": ".py",
   "mimetype": "text/x-python",
   "name": "python",
   "nbconvert_exporter": "python",
   "pygments_lexer": "ipython3",
   "version": "3.9.13"
  },
  "orig_nbformat": 4
 },
 "nbformat": 4,
 "nbformat_minor": 2
}
