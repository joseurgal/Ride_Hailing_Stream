{
 "cells": [
  {
   "cell_type": "code",
   "execution_count": null,
   "metadata": {},
   "outputs": [
    {
     "name": "stderr",
     "output_type": "stream",
     "text": [
      "52.73s - pydevd: Sending message related to process being replaced timed-out after 5 seconds\n"
     ]
    },
    {
     "name": "stdout",
     "output_type": "stream",
     "text": [
      "Requirement already satisfied: fastavro in /Users/rakelosksigurdardottir/opt/anaconda3/lib/python3.9/site-packages (1.10.0)\n"
     ]
    }
   ],
   "source": [
    "#!pip install fastavro"
   ]
  },
  {
   "cell_type": "code",
   "execution_count": null,
   "metadata": {},
   "outputs": [],
   "source": [
    "from fastavro import writer, reader, parse_schema\n",
    "import io\n",
    "\n",
    "# Define a simple schema\n",
    "schema = {\n",
    "    'doc': 'A driver availability feed schema.',\n",
    "    'name': 'Driver',\n",
    "    'namespace': 'stream.ride.information',\n",
    "    'type': 'record',\n",
    "    'fields': [\n",
    "        {'name': 'event_id', 'type': 'string', 'doc': 'Unique identifier for this event'},\n",
    "        {'name': 'driver_id', 'type': 'string'},\n",
    "        {'name': 'timestamp', 'type': 'long', 'doc':'Timestamp of status update'},\n",
    "        {\n",
    "            'name': 'location',\n",
    "            'type': {\n",
    "                'name': 'Location',\n",
    "                'type': 'record',\n",
    "                'fields': [\n",
    "                    {'name': 'latitude', 'type': 'float'},\n",
    "                    {'name': 'longitude', 'type': 'float'}\n",
    "                ]\n",
    "            }\n",
    "        },\n",
    "        {\n",
    "            'name': 'status',\n",
    "            'type': {\n",
    "                'type': 'enum',\n",
    "                'name': 'Status',\n",
    "                'symbols': ['available', 'en route', 'engaged', 'offline']\n",
    "            },\n",
    "            'doc': 'Current driver status.'\n",
    "        },\n",
    "        {'name': 'ride_id', 'type': ['null', 'string'], 'default': None},\n",
    "        {\n",
    "            'name': 'vehicle_type',\n",
    "            'type': {\n",
    "                'name': 'VehicleTypeEnum',\n",
    "                'type': 'enum',\n",
    "                'symbols': ['sedan', 'suv', 'van', 'truck', 'hatchback']\n",
    "            }\n",
    "        },        \n",
    "        {'name': 'driver_session_id', 'type': 'string'},\n",
    "        {\n",
    "            'name': 'traffic_condition',\n",
    "            'type': ['null', {\n",
    "                'name': 'TrafficConditionEnum',\n",
    "                'type': 'enum',\n",
    "                'symbols': ['light', 'moderate', 'heavy', 'gridlock', 'unknown']\n",
    "            }],\n",
    "            'default': None\n",
    "        }    ]\n",
    "}"
   ]
  }
 ],
 "metadata": {
  "kernelspec": {
   "display_name": "base",
   "language": "python",
   "name": "python3"
  },
  "language_info": {
   "codemirror_mode": {
    "name": "ipython",
    "version": 3
   },
   "file_extension": ".py",
   "mimetype": "text/x-python",
   "name": "python",
   "nbconvert_exporter": "python",
   "pygments_lexer": "ipython3",
   "version": "3.9.13"
  }
 },
 "nbformat": 4,
 "nbformat_minor": 2
}
